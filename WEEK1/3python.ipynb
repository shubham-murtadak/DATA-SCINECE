{
  "nbformat": 4,
  "nbformat_minor": 0,
  "metadata": {
    "colab": {
      "provenance": [],
      "authorship_tag": "ABX9TyM1FKfd8s7oinxFC/ZorKUc",
      "include_colab_link": true
    },
    "kernelspec": {
      "name": "python3",
      "display_name": "Python 3"
    },
    "language_info": {
      "name": "python"
    }
  },
  "cells": [
    {
      "cell_type": "markdown",
      "metadata": {
        "id": "view-in-github",
        "colab_type": "text"
      },
      "source": [
        "<a href=\"https://colab.research.google.com/github/shubham-murtadak/DATA-SCINECE/blob/main/WEEK1/3python.ipynb\" target=\"_parent\"><img src=\"https://colab.research.google.com/assets/colab-badge.svg\" alt=\"Open In Colab\"/></a>"
      ]
    },
    {
      "cell_type": "markdown",
      "source": [
        "program -The current population of a town is 1000.The population of the town is increasing at the rate of10% per year.You have to write a program to find out the population at the end of each of the last 10 years.\n",
        "\n"
      ],
      "metadata": {
        "id": "HG5oD86IEAog"
      }
    },
    {
      "cell_type": "markdown",
      "source": [],
      "metadata": {
        "id": "XNeD5z19OCzW"
      }
    },
    {
      "cell_type": "code",
      "source": [
        "curr_pop=10000\n",
        "for i in range(10,0,-1):\n",
        "  curr_pop=curr_pop/1.1\n",
        "  print(i,curr_pop)"
      ],
      "metadata": {
        "colab": {
          "base_uri": "https://localhost:8080/"
        },
        "id": "WW8WpyYbEbV-",
        "outputId": "76a0d7fe-1910-4278-ff66-e4790a4126d7"
      },
      "execution_count": null,
      "outputs": [
        {
          "output_type": "stream",
          "name": "stdout",
          "text": [
            "10 9090.90909090909\n",
            "9 8264.462809917353\n",
            "8 7513.148009015775\n",
            "7 6830.134553650703\n",
            "6 6209.213230591548\n",
            "5 5644.739300537771\n",
            "4 5131.5811823070635\n",
            "3 4665.07380209733\n",
            "2 4240.976183724845\n",
            "1 3855.4328942953134\n"
          ]
        }
      ]
    },
    {
      "cell_type": "markdown",
      "source": [
        "**SEQUENCE SUM PROBLEM**\n",
        "\n",
        "1/1!+2/2!+....\n"
      ],
      "metadata": {
        "id": "MROs_Hk4G3DA"
      }
    },
    {
      "cell_type": "code",
      "source": [
        "n=int(input('enter term to calculate'))\n",
        "result=0\n",
        "fact=1\n",
        "for i in range(1,n+1):\n",
        "  fact*=i\n",
        "  result=result+i/fact\n",
        "\n",
        "print(result)"
      ],
      "metadata": {
        "colab": {
          "base_uri": "https://localhost:8080/"
        },
        "id": "9nJhTjUjHERr",
        "outputId": "9225dd9b-5fae-4468-faa3-9a89a4446d9e"
      },
      "execution_count": null,
      "outputs": [
        {
          "output_type": "stream",
          "name": "stdout",
          "text": [
            "enter term to calculate2\n",
            "2.0\n"
          ]
        }
      ]
    },
    {
      "cell_type": "markdown",
      "source": [
        "**TOPIC 1-NESTED LOOP**"
      ],
      "metadata": {
        "id": "qa6AGnHwJC5e"
      }
    },
    {
      "cell_type": "markdown",
      "source": [],
      "metadata": {
        "id": "lbUVH1FNJi3T"
      }
    },
    {
      "cell_type": "code",
      "source": [
        "for i in range(1,5):\n",
        "  for j in range(1,5):\n",
        "    print(i,j)"
      ],
      "metadata": {
        "colab": {
          "base_uri": "https://localhost:8080/"
        },
        "id": "7eu5kFT9JIeK",
        "outputId": "b9ab00eb-f61f-4370-9b39-8086db0d9bdd"
      },
      "execution_count": null,
      "outputs": [
        {
          "output_type": "stream",
          "name": "stdout",
          "text": [
            "1 1\n",
            "1 2\n",
            "1 3\n",
            "1 4\n",
            "2 1\n",
            "2 2\n",
            "2 3\n",
            "2 4\n",
            "3 1\n",
            "3 2\n",
            "3 3\n",
            "3 4\n",
            "4 1\n",
            "4 2\n",
            "4 3\n",
            "4 4\n"
          ]
        }
      ]
    },
    {
      "cell_type": "markdown",
      "source": [
        "pattern 1-\n",
        "\n",
        "* \n",
        "**\n",
        "***"
      ],
      "metadata": {
        "id": "gewoqHN6JjxP"
      }
    },
    {
      "cell_type": "code",
      "source": [
        "n=int(input('no of row'))\n",
        "for i in range(1,n+1):\n",
        "  #star print karo\n",
        "  for star in range (1,i+1):\n",
        "    print('*',end='')\n",
        "  print()"
      ],
      "metadata": {
        "colab": {
          "base_uri": "https://localhost:8080/"
        },
        "id": "YP17VVeGJttK",
        "outputId": "ea12475e-cac8-46ff-de5e-2ea6cdd58f4e"
      },
      "execution_count": null,
      "outputs": [
        {
          "output_type": "stream",
          "name": "stdout",
          "text": [
            "no of row5\n",
            "*\n",
            "**\n",
            "***\n",
            "****\n",
            "*****\n"
          ]
        }
      ]
    },
    {
      "cell_type": "markdown",
      "source": [
        "pattern 2\n",
        "\n",
        "1\n",
        "\n",
        "121\n",
        "\n",
        "12321\n",
        "\n",
        "1234321"
      ],
      "metadata": {
        "id": "wpcmtes3LMUQ"
      }
    },
    {
      "cell_type": "code",
      "source": [
        "n=int(input('n :'))\n",
        "for i in range(1,n+1):\n",
        "  for j in range(1,i+1):\n",
        "    print(j,end='')\n",
        "  for k in range(i-1,0,-1):\n",
        "    print(k,end='')\n",
        "  print()"
      ],
      "metadata": {
        "colab": {
          "base_uri": "https://localhost:8080/"
        },
        "id": "PEf2IsMjLYOR",
        "outputId": "d7ce4af8-329e-410f-94e8-c9f567fbf973"
      },
      "execution_count": null,
      "outputs": [
        {
          "output_type": "stream",
          "name": "stdout",
          "text": [
            "n :4\n",
            "1\n",
            "121\n",
            "12321\n",
            "1234321\n"
          ]
        }
      ]
    },
    {
      "cell_type": "markdown",
      "source": [
        "**TOPIC 2 LOOP CONTROL STATEMENT**\n",
        "\n",
        "1.BREAK\n",
        "\n",
        "2.CONTINUE\n",
        "\n",
        "3.PASS"
      ],
      "metadata": {
        "id": "yzmDuZcrNh_N"
      }
    },
    {
      "cell_type": "code",
      "source": [
        "#break  - use in database to searc an elemnt after search of element we stop searching\n",
        "n=5\n",
        "for i in range(1,9,1):\n",
        "  if i==4:\n",
        "    break\n",
        "  print(i)\n",
        "  "
      ],
      "metadata": {
        "colab": {
          "base_uri": "https://localhost:8080/"
        },
        "id": "zvDXXs_bNsHI",
        "outputId": "533cebe7-4938-4c22-c545-f46f405f03a9"
      },
      "execution_count": null,
      "outputs": [
        {
          "output_type": "stream",
          "name": "stdout",
          "text": [
            "1\n",
            "2\n",
            "3\n"
          ]
        }
      ]
    },
    {
      "cell_type": "code",
      "source": [
        "#user give range and you should print all prime numbers between that range\n",
        "low=int(input('lower limit :'))\n",
        "upp=int(input('upper limit :'))\n",
        "check=0\n",
        "for i in range(low,upp+1):\n",
        "  for j in range(2,i):\n",
        "    if i%j==0:\n",
        "      break\n",
        "\n",
        "  else:\n",
        "    print(i)\n",
        "\n",
        "  \n",
        "\n"
      ],
      "metadata": {
        "colab": {
          "base_uri": "https://localhost:8080/"
        },
        "id": "3W-owynNOkhh",
        "outputId": "ce04b174-a8c8-46e6-87b2-1306fe7621b5"
      },
      "execution_count": null,
      "outputs": [
        {
          "output_type": "stream",
          "name": "stdout",
          "text": [
            "lower limit :2\n",
            "upper limit :10\n",
            "2\n",
            "3\n",
            "5\n",
            "7\n"
          ]
        }
      ]
    },
    {
      "cell_type": "code",
      "source": [
        "#continue statement-use in ecomerse website to skip product whose stcok is 0\n",
        "\n",
        "for i in range(1,10):\n",
        "  if i==5:\n",
        "    continue\n",
        "  print(i)"
      ],
      "metadata": {
        "colab": {
          "base_uri": "https://localhost:8080/"
        },
        "id": "xHlBVk00QNh7",
        "outputId": "4ded465b-8d95-42ff-df62-b4cf9e57e627"
      },
      "execution_count": null,
      "outputs": [
        {
          "output_type": "stream",
          "name": "stdout",
          "text": [
            "1\n",
            "2\n",
            "3\n",
            "4\n",
            "6\n",
            "7\n",
            "8\n",
            "9\n"
          ]
        }
      ]
    },
    {
      "cell_type": "code",
      "source": [
        "#pass statement-agar koi code likhne ka idea nhi hai to just pass kar dena so error nhi aayega\n",
        "for i in range(1,10):\n",
        "  pass"
      ],
      "metadata": {
        "id": "GZ7mn7oIQ4D8"
      },
      "execution_count": null,
      "outputs": []
    },
    {
      "cell_type": "markdown",
      "source": [
        "**Topic-3) STRINGS**\n",
        "in python strings are a sequence of unicode characters\n",
        "\n",
        "1.creating string\n",
        "\n",
        "2.accessing string\n",
        "\n",
        "3.adding char to string\n",
        "\n",
        "4.editing string\n",
        "\n",
        "5.deleting string\n",
        "\n",
        "6.opearation on strings\n",
        "\n",
        "7.string functions"
      ],
      "metadata": {
        "id": "tkRqAlffRHQX"
      }
    },
    {
      "cell_type": "code",
      "source": [
        "#create string\n",
        "a='jay hanuman dada'\n",
        "print(a)\n",
        "a=\"jay ' hanuman dada\"\n",
        "print(a)\n",
        "#for multiline strings\n",
        "s='''jay hanuman dada'''\n",
        "print(s)"
      ],
      "metadata": {
        "colab": {
          "base_uri": "https://localhost:8080/"
        },
        "id": "XB49itJiRyVG",
        "outputId": "325cde32-02bf-4c13-f137-3d372690eaf5"
      },
      "execution_count": null,
      "outputs": [
        {
          "output_type": "stream",
          "name": "stdout",
          "text": [
            "jay hanuman dada\n",
            "jay ' hanuman dada\n",
            "jay hanuman dada\n"
          ]
        }
      ]
    },
    {
      "cell_type": "code",
      "source": [
        "#accesing string\n",
        "s='hello worlds'\n",
        "print(s[7])\n",
        "print(s[-1])"
      ],
      "metadata": {
        "colab": {
          "base_uri": "https://localhost:8080/"
        },
        "id": "_wYRRss9SpWA",
        "outputId": "9c85d6dd-4b8d-43d3-98cd-ddaddb0545a1"
      },
      "execution_count": null,
      "outputs": [
        {
          "output_type": "stream",
          "name": "stdout",
          "text": [
            "o\n",
            "s\n"
          ]
        }
      ]
    },
    {
      "cell_type": "code",
      "source": [],
      "metadata": {
        "id": "rUKHSSaNTPC0"
      },
      "execution_count": null,
      "outputs": []
    },
    {
      "cell_type": "code",
      "source": [
        "#positive indexing\n",
        "s='hello worlds'\n",
        "print(s[7])"
      ],
      "metadata": {
        "colab": {
          "base_uri": "https://localhost:8080/"
        },
        "id": "KawpKF48TILS",
        "outputId": "c32b6e35-7617-4820-d183-cbf005a097d7"
      },
      "execution_count": null,
      "outputs": [
        {
          "output_type": "stream",
          "name": "stdout",
          "text": [
            "o\n"
          ]
        }
      ]
    },
    {
      "cell_type": "code",
      "source": [
        "#negative indexing\n",
        "s='hello worlds'\n",
        "print(s[-1])\n",
        "print(s[-2])\n",
        "print(s[-3])"
      ],
      "metadata": {
        "colab": {
          "base_uri": "https://localhost:8080/"
        },
        "id": "-JGjukZPTQiv",
        "outputId": "8e4ec123-3ae1-4e88-ce60-301a02fa0e41"
      },
      "execution_count": null,
      "outputs": [
        {
          "output_type": "stream",
          "name": "stdout",
          "text": [
            "s\n",
            "d\n",
            "l\n"
          ]
        }
      ]
    },
    {
      "cell_type": "code",
      "source": [
        "#slicing-more than 1 character ectract\n",
        "s='hello world'\n",
        "print(s[0:5])\n",
        "print(s[2:])\n",
        "print(s[:5])\n",
        "print(s[0:7:2])"
      ],
      "metadata": {
        "colab": {
          "base_uri": "https://localhost:8080/"
        },
        "id": "n8kU94rBTgNE",
        "outputId": "37e18669-9cf9-43fe-ce2b-304bf5fb08a2"
      },
      "execution_count": null,
      "outputs": [
        {
          "output_type": "stream",
          "name": "stdout",
          "text": [
            "hello\n",
            "llo world\n",
            "hello\n",
            "hlow\n"
          ]
        }
      ]
    },
    {
      "cell_type": "code",
      "source": [
        "#reversing string\n",
        "s='hello world'\n",
        "print(s[::-1])"
      ],
      "metadata": {
        "colab": {
          "base_uri": "https://localhost:8080/"
        },
        "id": "E1vloqI6UEWt",
        "outputId": "d87fbdc0-3f84-4cc6-dab6-fb82b2528642"
      },
      "execution_count": null,
      "outputs": [
        {
          "output_type": "stream",
          "name": "stdout",
          "text": [
            "dlrow olleh\n"
          ]
        }
      ]
    },
    {
      "cell_type": "code",
      "source": [
        "#negative indexing\n",
        "s='hello world'\n",
        "print(s[5:])\n",
        "print(s[-1:-6:-1])"
      ],
      "metadata": {
        "colab": {
          "base_uri": "https://localhost:8080/"
        },
        "id": "Et7lhzzbazBk",
        "outputId": "18a5bb20-481e-4f27-d647-7c0bcd4981cf"
      },
      "execution_count": null,
      "outputs": [
        {
          "output_type": "stream",
          "name": "stdout",
          "text": [
            " world\n",
            "dlrow\n"
          ]
        }
      ]
    },
    {
      "cell_type": "code",
      "source": [
        "#editing a string\n",
        "#python strings are immutable so we cant edit string after creation of it \n"
      ],
      "metadata": {
        "id": "lHdQg5FabQXi"
      },
      "execution_count": null,
      "outputs": []
    },
    {
      "cell_type": "code",
      "source": [
        "#deleting a string\n",
        "s='hello world'\n",
        "#del(s)\n",
        "print(s)"
      ],
      "metadata": {
        "colab": {
          "base_uri": "https://localhost:8080/"
        },
        "id": "ZBnCuxhtbqdr",
        "outputId": "52c1391d-5995-48a8-d719-3ee5f5e0fb9c"
      },
      "execution_count": null,
      "outputs": [
        {
          "output_type": "stream",
          "name": "stdout",
          "text": [
            "hello world\n"
          ]
        }
      ]
    },
    {
      "cell_type": "markdown",
      "source": [
        "**operation on strings**\n",
        "\n",
        "1.ARITHMETIC OPERATIONS\n",
        "\n",
        "2.RELATIONAL OPERATIONS\n",
        "\n",
        "3.LOGICAL OPERATIONS\n",
        "\n",
        "4.LOOPS ON STRINGS\n",
        "\n",
        "5.MEMBERSHIOP OPERATIONS"
      ],
      "metadata": {
        "id": "XenLCytYcG3m"
      }
    },
    {
      "cell_type": "code",
      "source": [
        "#1.Arithmetic operators\n",
        "print('jay'+''+'hanuman'+''+'dada')\n",
        "print('shubham'*4)"
      ],
      "metadata": {
        "colab": {
          "base_uri": "https://localhost:8080/"
        },
        "id": "C61SwhcocdsX",
        "outputId": "f8ff3a2a-bae1-4dc8-d86b-16553b4245a6"
      },
      "execution_count": null,
      "outputs": [
        {
          "output_type": "stream",
          "name": "stdout",
          "text": [
            "jayhanumandada\n",
            "shubhamshubhamshubhamshubham\n"
          ]
        }
      ]
    },
    {
      "cell_type": "code",
      "source": [
        "#relational operators\n",
        "print('delhi'=='mumbai')\n",
        "print('delhi'!='mumbai')\n",
        "print('mumbai'>'pune')  #comparison based on lexographical order"
      ],
      "metadata": {
        "colab": {
          "base_uri": "https://localhost:8080/"
        },
        "id": "-DV-ltpNc4kk",
        "outputId": "35b43303-005c-4381-ded0-86aa7cccf86f"
      },
      "execution_count": null,
      "outputs": [
        {
          "output_type": "stream",
          "name": "stdout",
          "text": [
            "False\n",
            "True\n",
            "False\n"
          ]
        }
      ]
    },
    {
      "cell_type": "markdown",
      "source": [
        "Logical operation on strings:\n",
        "\n",
        "if empty string =false\n",
        "\n",
        "if non empty string=true\n",
        "\n",
        "ex-s='' ->python consider it as false\n",
        "\n",
        "s='shubham' ->python consider it as true"
      ],
      "metadata": {
        "id": "NzWfU-MHeK9Q"
      }
    },
    {
      "cell_type": "code",
      "source": [
        "'hello' or 'world'"
      ],
      "metadata": {
        "colab": {
          "base_uri": "https://localhost:8080/",
          "height": 36
        },
        "id": "GrjTQAJPeeYM",
        "outputId": "52516eec-a2d3-47aa-d495-8db87ae6f6e7"
      },
      "execution_count": null,
      "outputs": [
        {
          "output_type": "execute_result",
          "data": {
            "text/plain": [
              "'hello'"
            ],
            "application/vnd.google.colaboratory.intrinsic+json": {
              "type": "string"
            }
          },
          "metadata": {},
          "execution_count": 72
        }
      ]
    },
    {
      "cell_type": "code",
      "source": [
        "'hello' and 'world'"
      ],
      "metadata": {
        "colab": {
          "base_uri": "https://localhost:8080/",
          "height": 36
        },
        "id": "Q4OoQ2U1ei-r",
        "outputId": "2f194496-3f9d-4f12-ffe9-fde90da02153"
      },
      "execution_count": null,
      "outputs": [
        {
          "output_type": "execute_result",
          "data": {
            "text/plain": [
              "'world'"
            ],
            "application/vnd.google.colaboratory.intrinsic+json": {
              "type": "string"
            }
          },
          "metadata": {},
          "execution_count": 73
        }
      ]
    },
    {
      "cell_type": "code",
      "source": [
        "'' or 'hello'"
      ],
      "metadata": {
        "colab": {
          "base_uri": "https://localhost:8080/",
          "height": 36
        },
        "id": "_JcuzrC2enl8",
        "outputId": "99e7b08b-2d58-492d-c353-5be0ae96c46e"
      },
      "execution_count": null,
      "outputs": [
        {
          "output_type": "execute_result",
          "data": {
            "text/plain": [
              "'hello'"
            ],
            "application/vnd.google.colaboratory.intrinsic+json": {
              "type": "string"
            }
          },
          "metadata": {},
          "execution_count": 74
        }
      ]
    },
    {
      "cell_type": "code",
      "source": [
        "'' and 'hello'"
      ],
      "metadata": {
        "colab": {
          "base_uri": "https://localhost:8080/",
          "height": 36
        },
        "id": "vfU7k0yJerEK",
        "outputId": "4c03381f-ad40-4981-8a5f-0578c9f94483"
      },
      "execution_count": null,
      "outputs": [
        {
          "output_type": "execute_result",
          "data": {
            "text/plain": [
              "''"
            ],
            "application/vnd.google.colaboratory.intrinsic+json": {
              "type": "string"
            }
          },
          "metadata": {},
          "execution_count": 75
        }
      ]
    },
    {
      "cell_type": "code",
      "source": [
        "'shubham' and 'hello'"
      ],
      "metadata": {
        "colab": {
          "base_uri": "https://localhost:8080/",
          "height": 36
        },
        "id": "8N3mT5xieukn",
        "outputId": "46c666e4-8d72-4cb8-d164-817c4ec6cbd8"
      },
      "execution_count": null,
      "outputs": [
        {
          "output_type": "execute_result",
          "data": {
            "text/plain": [
              "'hello'"
            ],
            "application/vnd.google.colaboratory.intrinsic+json": {
              "type": "string"
            }
          },
          "metadata": {},
          "execution_count": 76
        }
      ]
    },
    {
      "cell_type": "code",
      "source": [
        "not 'hello'"
      ],
      "metadata": {
        "colab": {
          "base_uri": "https://localhost:8080/"
        },
        "id": "Uqfqzitke7_1",
        "outputId": "0841cec6-bb18-47c3-b450-fd65ac162578"
      },
      "execution_count": null,
      "outputs": [
        {
          "output_type": "execute_result",
          "data": {
            "text/plain": [
              "False"
            ]
          },
          "metadata": {},
          "execution_count": 77
        }
      ]
    },
    {
      "cell_type": "markdown",
      "source": [
        "Loops on strings"
      ],
      "metadata": {
        "id": "v0NX2tA8e-ul"
      }
    },
    {
      "cell_type": "code",
      "source": [
        "s='jay hanuman dada'\n",
        "for i in s:\n",
        "  print(i)"
      ],
      "metadata": {
        "colab": {
          "base_uri": "https://localhost:8080/"
        },
        "id": "cA04YADSfDLA",
        "outputId": "cb540913-b9d8-49eb-8b4c-0051bfb28e9c"
      },
      "execution_count": null,
      "outputs": [
        {
          "output_type": "stream",
          "name": "stdout",
          "text": [
            "j\n",
            "a\n",
            "y\n",
            " \n",
            "h\n",
            "a\n",
            "n\n",
            "u\n",
            "m\n",
            "a\n",
            "n\n",
            " \n",
            "d\n",
            "a\n",
            "d\n",
            "a\n"
          ]
        }
      ]
    },
    {
      "cell_type": "code",
      "source": [
        "for i in 'delhi':\n",
        "  print('pune')"
      ],
      "metadata": {
        "colab": {
          "base_uri": "https://localhost:8080/"
        },
        "id": "XvdHWFjOfd-m",
        "outputId": "de0de25f-ccae-4641-dfe5-641572f27c6a"
      },
      "execution_count": null,
      "outputs": [
        {
          "output_type": "stream",
          "name": "stdout",
          "text": [
            "pune\n",
            "pune\n",
            "pune\n",
            "pune\n",
            "pune\n"
          ]
        }
      ]
    },
    {
      "cell_type": "code",
      "source": [
        "#membersip operators\n",
        "'d' in 'Delhi'"
      ],
      "metadata": {
        "colab": {
          "base_uri": "https://localhost:8080/"
        },
        "id": "d3s0f5FCfjLX",
        "outputId": "dc2af789-c611-4801-d56c-c4b68eabaaf6"
      },
      "execution_count": null,
      "outputs": [
        {
          "output_type": "execute_result",
          "data": {
            "text/plain": [
              "False"
            ]
          },
          "metadata": {},
          "execution_count": 80
        }
      ]
    },
    {
      "cell_type": "markdown",
      "source": [
        "**STRING FUNCTIONS**"
      ],
      "metadata": {
        "id": "d61UTQ0rf1Bu"
      }
    },
    {
      "cell_type": "markdown",
      "source": [
        "COMMON FUNCTIONS:\n",
        "\n",
        "1.len\n",
        "\n",
        "2.max\n",
        "\n",
        "3.min\n",
        "\n",
        "4.sorted"
      ],
      "metadata": {
        "id": "q6_woIa8f7-9"
      }
    },
    {
      "cell_type": "code",
      "source": [
        "s='shubham'\n",
        "len(s)"
      ],
      "metadata": {
        "colab": {
          "base_uri": "https://localhost:8080/"
        },
        "id": "zDF_-_1cfv3Q",
        "outputId": "3e8c1054-4cc2-4249-8e46-48f074e7c111"
      },
      "execution_count": null,
      "outputs": [
        {
          "output_type": "execute_result",
          "data": {
            "text/plain": [
              "7"
            ]
          },
          "metadata": {},
          "execution_count": 82
        }
      ]
    },
    {
      "cell_type": "code",
      "source": [
        "max('hello world')"
      ],
      "metadata": {
        "colab": {
          "base_uri": "https://localhost:8080/",
          "height": 36
        },
        "id": "UHpXy8vtgUWw",
        "outputId": "afb57733-4499-400e-e0ac-0c0a65fc6104"
      },
      "execution_count": null,
      "outputs": [
        {
          "output_type": "execute_result",
          "data": {
            "text/plain": [
              "'w'"
            ],
            "application/vnd.google.colaboratory.intrinsic+json": {
              "type": "string"
            }
          },
          "metadata": {},
          "execution_count": 83
        }
      ]
    },
    {
      "cell_type": "code",
      "source": [
        "min('hello world')"
      ],
      "metadata": {
        "colab": {
          "base_uri": "https://localhost:8080/",
          "height": 36
        },
        "id": "ej7ChbQqgYKI",
        "outputId": "1a06f5e2-e72d-4d02-9a47-4a02f357ac96"
      },
      "execution_count": null,
      "outputs": [
        {
          "output_type": "execute_result",
          "data": {
            "text/plain": [
              "' '"
            ],
            "application/vnd.google.colaboratory.intrinsic+json": {
              "type": "string"
            }
          },
          "metadata": {},
          "execution_count": 84
        }
      ]
    },
    {
      "cell_type": "code",
      "source": [
        "sorted('shubham murtadak')"
      ],
      "metadata": {
        "colab": {
          "base_uri": "https://localhost:8080/"
        },
        "id": "Eyl9HkVcgbgv",
        "outputId": "1f3dd9e8-8307-4e56-b0b8-694e372c5569"
      },
      "execution_count": null,
      "outputs": [
        {
          "output_type": "execute_result",
          "data": {
            "text/plain": [
              "[' ',\n",
              " 'a',\n",
              " 'a',\n",
              " 'a',\n",
              " 'b',\n",
              " 'd',\n",
              " 'h',\n",
              " 'h',\n",
              " 'k',\n",
              " 'm',\n",
              " 'm',\n",
              " 'r',\n",
              " 's',\n",
              " 't',\n",
              " 'u',\n",
              " 'u']"
            ]
          },
          "metadata": {},
          "execution_count": 85
        }
      ]
    },
    {
      "cell_type": "code",
      "source": [
        "sorted('shubham murtadak',reverse=True)"
      ],
      "metadata": {
        "colab": {
          "base_uri": "https://localhost:8080/"
        },
        "id": "12RWms57ggLR",
        "outputId": "a518298f-970b-4400-d246-9954a206f8b0"
      },
      "execution_count": null,
      "outputs": [
        {
          "output_type": "execute_result",
          "data": {
            "text/plain": [
              "['u',\n",
              " 'u',\n",
              " 't',\n",
              " 's',\n",
              " 'r',\n",
              " 'm',\n",
              " 'm',\n",
              " 'k',\n",
              " 'h',\n",
              " 'h',\n",
              " 'd',\n",
              " 'b',\n",
              " 'a',\n",
              " 'a',\n",
              " 'a',\n",
              " ' ']"
            ]
          },
          "metadata": {},
          "execution_count": 86
        }
      ]
    },
    {
      "cell_type": "markdown",
      "source": [
        "specific functions:\n",
        "\n",
        "1.Capitalize\n",
        "\n",
        "2.Title\n",
        "\n",
        "3.Uppercase\n",
        "\n",
        "4.Lower\n",
        "\n",
        "5.Swapcase"
      ],
      "metadata": {
        "id": "j_XGAmUmg0Yd"
      }
    },
    {
      "cell_type": "code",
      "source": [
        "#captilize -capital first letter of string\n",
        "s='heloo'\n",
        "s.capitalize()"
      ],
      "metadata": {
        "colab": {
          "base_uri": "https://localhost:8080/",
          "height": 36
        },
        "id": "r3OF-GbMhCp5",
        "outputId": "3a2e42e2-c0fe-460f-8f82-ff36de839218"
      },
      "execution_count": null,
      "outputs": [
        {
          "output_type": "execute_result",
          "data": {
            "text/plain": [
              "'Heloo'"
            ],
            "application/vnd.google.colaboratory.intrinsic+json": {
              "type": "string"
            }
          },
          "metadata": {},
          "execution_count": 88
        }
      ]
    },
    {
      "cell_type": "code",
      "source": [
        "#title-captitals each first letter in world in stirng \n",
        "s='hello shubham murtadak bro '\n",
        "s.title()"
      ],
      "metadata": {
        "colab": {
          "base_uri": "https://localhost:8080/",
          "height": 36
        },
        "id": "dqJ2X1iBhMyH",
        "outputId": "10a7c192-3787-40ff-ae71-d7daa4ec459d"
      },
      "execution_count": null,
      "outputs": [
        {
          "output_type": "execute_result",
          "data": {
            "text/plain": [
              "'Hello Shubham Murtadak Bro '"
            ],
            "application/vnd.google.colaboratory.intrinsic+json": {
              "type": "string"
            }
          },
          "metadata": {},
          "execution_count": 89
        }
      ]
    },
    {
      "cell_type": "code",
      "source": [
        "#upper->convert string to upper\n",
        "s='hello shubham'\n",
        "s.upper()"
      ],
      "metadata": {
        "colab": {
          "base_uri": "https://localhost:8080/",
          "height": 36
        },
        "id": "M-mHI0SFhlqt",
        "outputId": "6f1589b5-936f-4062-a152-face13ab9927"
      },
      "execution_count": null,
      "outputs": [
        {
          "output_type": "execute_result",
          "data": {
            "text/plain": [
              "'HELLO SHUBHAM'"
            ],
            "application/vnd.google.colaboratory.intrinsic+json": {
              "type": "string"
            }
          },
          "metadata": {},
          "execution_count": 90
        }
      ]
    },
    {
      "cell_type": "code",
      "source": [
        "#lower\n",
        "s='HELLO SHUBHAM'\n",
        "s.lower()"
      ],
      "metadata": {
        "colab": {
          "base_uri": "https://localhost:8080/",
          "height": 36
        },
        "id": "MxVbYVrThuyl",
        "outputId": "93b1c3d4-ecd5-4e9d-d9fb-e2bbef7ee690"
      },
      "execution_count": null,
      "outputs": [
        {
          "output_type": "execute_result",
          "data": {
            "text/plain": [
              "'hello shubham'"
            ],
            "application/vnd.google.colaboratory.intrinsic+json": {
              "type": "string"
            }
          },
          "metadata": {},
          "execution_count": 91
        }
      ]
    },
    {
      "cell_type": "code",
      "source": [
        "#swapcase->convert capital to lower and lower to captial\n",
        "s='sHUBHAM'\n",
        "s.swapcase()"
      ],
      "metadata": {
        "colab": {
          "base_uri": "https://localhost:8080/",
          "height": 36
        },
        "id": "-urut-qph4N4",
        "outputId": "9ff4f58b-ef03-4e1a-d164-016473a0c736"
      },
      "execution_count": null,
      "outputs": [
        {
          "output_type": "execute_result",
          "data": {
            "text/plain": [
              "'Shubham'"
            ],
            "application/vnd.google.colaboratory.intrinsic+json": {
              "type": "string"
            }
          },
          "metadata": {},
          "execution_count": 92
        }
      ]
    },
    {
      "cell_type": "markdown",
      "source": [
        "1.count\n",
        "\n",
        "2.find\n",
        "\n",
        "3.index"
      ],
      "metadata": {
        "id": "zSMsOnDeiKHq"
      }
    },
    {
      "cell_type": "code",
      "source": [
        "#count\n",
        "\n",
        "'my name is shubham'.count('s')"
      ],
      "metadata": {
        "colab": {
          "base_uri": "https://localhost:8080/"
        },
        "id": "OHPzHyRpiND9",
        "outputId": "7d4ec8c2-0618-4540-d403-09cb593759ac"
      },
      "execution_count": null,
      "outputs": [
        {
          "output_type": "execute_result",
          "data": {
            "text/plain": [
              "2"
            ]
          },
          "metadata": {},
          "execution_count": 93
        }
      ]
    },
    {
      "cell_type": "code",
      "source": [
        "#find\n",
        "'my name is shubham'.find('is')"
      ],
      "metadata": {
        "colab": {
          "base_uri": "https://localhost:8080/"
        },
        "id": "SKTotpIbiTHz",
        "outputId": "ac8db395-8d6b-4477-9155-8c38215c481d"
      },
      "execution_count": null,
      "outputs": [
        {
          "output_type": "execute_result",
          "data": {
            "text/plain": [
              "8"
            ]
          },
          "metadata": {},
          "execution_count": 94
        }
      ]
    },
    {
      "cell_type": "code",
      "source": [
        "#index->same as find but throw error when object not found\n",
        "'my name is shubham'.index('m')"
      ],
      "metadata": {
        "colab": {
          "base_uri": "https://localhost:8080/"
        },
        "id": "nlZwvcP8icLa",
        "outputId": "94410976-dda8-4f8b-f688-3cad71a48128"
      },
      "execution_count": null,
      "outputs": [
        {
          "output_type": "execute_result",
          "data": {
            "text/plain": [
              "0"
            ]
          },
          "metadata": {},
          "execution_count": 96
        }
      ]
    },
    {
      "cell_type": "code",
      "source": [],
      "metadata": {
        "id": "eG7dnTq8iuFl"
      },
      "execution_count": null,
      "outputs": []
    },
    {
      "cell_type": "markdown",
      "source": [
        "endswith and startswith"
      ],
      "metadata": {
        "id": "kkBvpUfHi7iH"
      }
    },
    {
      "cell_type": "code",
      "source": [
        "'my name is shubham'.endswith('am')"
      ],
      "metadata": {
        "colab": {
          "base_uri": "https://localhost:8080/"
        },
        "id": "cDO7MVjhi-JP",
        "outputId": "e83b2ce5-97ad-4900-eb18-3c339e4cb10c"
      },
      "execution_count": null,
      "outputs": [
        {
          "output_type": "execute_result",
          "data": {
            "text/plain": [
              "True"
            ]
          },
          "metadata": {},
          "execution_count": 97
        }
      ]
    },
    {
      "cell_type": "code",
      "source": [
        "'my name is shubham'.startswith('y')"
      ],
      "metadata": {
        "colab": {
          "base_uri": "https://localhost:8080/"
        },
        "id": "jeYcw-TPjHwU",
        "outputId": "abdabdfb-ec85-4b1c-c5e9-c764bbe1e4c1"
      },
      "execution_count": null,
      "outputs": [
        {
          "output_type": "execute_result",
          "data": {
            "text/plain": [
              "False"
            ]
          },
          "metadata": {},
          "execution_count": 100
        }
      ]
    },
    {
      "cell_type": "markdown",
      "source": [
        "format\n"
      ],
      "metadata": {
        "id": "6fqfts4DjVdy"
      }
    },
    {
      "cell_type": "code",
      "source": [
        "name='shubham'\n",
        "gender='male'\n",
        "'Hi my name is {} ans i am a {}'.format(name,gender)"
      ],
      "metadata": {
        "colab": {
          "base_uri": "https://localhost:8080/",
          "height": 36
        },
        "id": "8HctD21rjWsv",
        "outputId": "d43514bf-8e76-4e94-f54a-5075f7d114dd"
      },
      "execution_count": null,
      "outputs": [
        {
          "output_type": "execute_result",
          "data": {
            "text/plain": [
              "'Hi my name is shubham ans i am a male'"
            ],
            "application/vnd.google.colaboratory.intrinsic+json": {
              "type": "string"
            }
          },
          "metadata": {},
          "execution_count": 102
        }
      ]
    },
    {
      "cell_type": "markdown",
      "source": [
        "isalnum/isalpha/isdigit/isidentifier"
      ],
      "metadata": {
        "id": "0QBD_-aLkVt8"
      }
    },
    {
      "cell_type": "code",
      "source": [
        "'shubham1234'.isalnum()"
      ],
      "metadata": {
        "colab": {
          "base_uri": "https://localhost:8080/"
        },
        "id": "t0T-bJH4kbP4",
        "outputId": "fef9115a-743c-4dd6-f25b-2d83be16257e"
      },
      "execution_count": null,
      "outputs": [
        {
          "output_type": "execute_result",
          "data": {
            "text/plain": [
              "True"
            ]
          },
          "metadata": {},
          "execution_count": 103
        }
      ]
    },
    {
      "cell_type": "code",
      "source": [
        "'1234'.isalpha()"
      ],
      "metadata": {
        "colab": {
          "base_uri": "https://localhost:8080/"
        },
        "id": "DGJNPsigkgyz",
        "outputId": "0c622ed1-d1e7-4968-bd5b-5e100209b339"
      },
      "execution_count": null,
      "outputs": [
        {
          "output_type": "execute_result",
          "data": {
            "text/plain": [
              "False"
            ]
          },
          "metadata": {},
          "execution_count": 104
        }
      ]
    },
    {
      "cell_type": "code",
      "source": [
        "'1234'.isdigit()"
      ],
      "metadata": {
        "colab": {
          "base_uri": "https://localhost:8080/"
        },
        "id": "jmSsFhCxkkyC",
        "outputId": "8422de19-138d-4781-b361-29707b2ff981"
      },
      "execution_count": null,
      "outputs": [
        {
          "output_type": "execute_result",
          "data": {
            "text/plain": [
              "True"
            ]
          },
          "metadata": {},
          "execution_count": 105
        }
      ]
    },
    {
      "cell_type": "code",
      "source": [
        "'1name'.isidentifier()\n",
        "'name1'.isidentifier()"
      ],
      "metadata": {
        "colab": {
          "base_uri": "https://localhost:8080/"
        },
        "id": "lDW2cGInkqXw",
        "outputId": "5b9adc48-56fb-455c-e752-71a1b518abaa"
      },
      "execution_count": null,
      "outputs": [
        {
          "output_type": "execute_result",
          "data": {
            "text/plain": [
              "True"
            ]
          },
          "metadata": {},
          "execution_count": 109
        }
      ]
    },
    {
      "cell_type": "markdown",
      "source": [
        "Split/join"
      ],
      "metadata": {
        "id": "oB1rer4lk6Gl"
      }
    },
    {
      "cell_type": "code",
      "source": [
        "#split\n",
        "'hi my name is shubham'.split()"
      ],
      "metadata": {
        "colab": {
          "base_uri": "https://localhost:8080/"
        },
        "id": "gpEi9qTuk9PU",
        "outputId": "42f267ec-32df-45cf-8672-13ebc962e196"
      },
      "execution_count": null,
      "outputs": [
        {
          "output_type": "execute_result",
          "data": {
            "text/plain": [
              "['hi', 'my', 'name', 'is', 'shubham']"
            ]
          },
          "metadata": {},
          "execution_count": 110
        }
      ]
    },
    {
      "cell_type": "code",
      "source": [
        "'hi my name is shibh'.split('i')"
      ],
      "metadata": {
        "colab": {
          "base_uri": "https://localhost:8080/"
        },
        "id": "1XtYXQUslHr9",
        "outputId": "56e0d0f1-e810-4d06-9a0a-665719cbccb5"
      },
      "execution_count": null,
      "outputs": [
        {
          "output_type": "execute_result",
          "data": {
            "text/plain": [
              "['h', ' my name ', 's sh', 'bh']"
            ]
          },
          "metadata": {},
          "execution_count": 111
        }
      ]
    },
    {
      "cell_type": "code",
      "source": [
        "#join\n",
        "' '.join(['hi', 'my', 'name', 'is', 'shubham'])"
      ],
      "metadata": {
        "colab": {
          "base_uri": "https://localhost:8080/",
          "height": 36
        },
        "id": "m2rGY6WhlO7t",
        "outputId": "d59ead5a-6a2f-4305-8eac-1c46080194c8"
      },
      "execution_count": null,
      "outputs": [
        {
          "output_type": "execute_result",
          "data": {
            "text/plain": [
              "'hi my name is shubham'"
            ],
            "application/vnd.google.colaboratory.intrinsic+json": {
              "type": "string"
            }
          },
          "metadata": {},
          "execution_count": 113
        }
      ]
    },
    {
      "cell_type": "markdown",
      "source": [
        "Replace"
      ],
      "metadata": {
        "id": "NSn_BZ6tlaCt"
      }
    },
    {
      "cell_type": "code",
      "source": [
        "'hi my name is anshika'.replace('anshika','shubham')"
      ],
      "metadata": {
        "colab": {
          "base_uri": "https://localhost:8080/",
          "height": 36
        },
        "id": "7yhqQvpBldTQ",
        "outputId": "cbd99f88-03ff-4695-82b6-fe0095a1d3b3"
      },
      "execution_count": null,
      "outputs": [
        {
          "output_type": "execute_result",
          "data": {
            "text/plain": [
              "'hi my name is shubham'"
            ],
            "application/vnd.google.colaboratory.intrinsic+json": {
              "type": "string"
            }
          },
          "metadata": {},
          "execution_count": 115
        }
      ]
    },
    {
      "cell_type": "code",
      "source": [
        "#strip->removes spaces\n",
        "'my            '.strip()"
      ],
      "metadata": {
        "colab": {
          "base_uri": "https://localhost:8080/",
          "height": 36
        },
        "id": "qh8jqj-xl7PC",
        "outputId": "1f621afc-960c-4cbc-bdcf-d0427c06574f"
      },
      "execution_count": null,
      "outputs": [
        {
          "output_type": "execute_result",
          "data": {
            "text/plain": [
              "'my'"
            ],
            "application/vnd.google.colaboratory.intrinsic+json": {
              "type": "string"
            }
          },
          "metadata": {},
          "execution_count": 117
        }
      ]
    },
    {
      "cell_type": "markdown",
      "source": [
        "**practice problems on strings **"
      ],
      "metadata": {
        "id": "LofCQyQbOE3C"
      }
    },
    {
      "cell_type": "code",
      "source": [
        "#find the length of string wihtout using length function\n",
        "s=\"shubham \"\n",
        "count=0\n",
        "for i in s:\n",
        "  if i==' ':\n",
        "    continue\n",
        "  count=count+1\n",
        "print('length of string is ',count)"
      ],
      "metadata": {
        "colab": {
          "base_uri": "https://localhost:8080/"
        },
        "id": "TkhIPM6EOONG",
        "outputId": "baab0330-929f-4486-c3f5-f4f2f394d7f6"
      },
      "execution_count": null,
      "outputs": [
        {
          "output_type": "stream",
          "name": "stdout",
          "text": [
            "length of string is  7\n"
          ]
        }
      ]
    },
    {
      "cell_type": "code",
      "source": [
        "#extract a username from a given email\n",
        "#ex if email is :shubhammurtadak6@gmail.com\n",
        "#op->shubhammuratadak6\n",
        "s=input('string:')\n",
        "\n",
        "print('username:',s[0:s.find('@'):1])"
      ],
      "metadata": {
        "colab": {
          "base_uri": "https://localhost:8080/"
        },
        "id": "6dC5pBQkP9vX",
        "outputId": "6b4b5fb9-2251-4836-c743-a4662ed7ad57"
      },
      "execution_count": null,
      "outputs": [
        {
          "output_type": "stream",
          "name": "stdout",
          "text": [
            "string:shubhammurtadak6@gmail.com\n",
            "username: shubhammurtadak6\n"
          ]
        }
      ]
    },
    {
      "cell_type": "code",
      "source": [
        "#count the frequency of perticular character in a provided string\n",
        "#ex 'hello how are you ' is the string ,the frequency of h in this string is 2\n",
        "\n",
        "s=input('string :')\n",
        "c=input('enter charater to be search:')\n",
        "count=0\n",
        "for i in s:\n",
        "  if i==c:\n",
        "    count+=1\n",
        "print(c,'appers ',count,' time in string ',s)"
      ],
      "metadata": {
        "colab": {
          "base_uri": "https://localhost:8080/"
        },
        "id": "sw3bEV1PQtUM",
        "outputId": "f1be14c3-d4d1-4db2-86b4-23e388378e64"
      },
      "execution_count": null,
      "outputs": [
        {
          "output_type": "stream",
          "name": "stdout",
          "text": [
            "string :shubham murtadak\n",
            "enter charater to be search:a\n",
            "a appers  3  time in string  shubham murtadak\n"
          ]
        }
      ]
    },
    {
      "cell_type": "code",
      "source": [
        "#write a program which can remove a particular character from a string \n",
        "s=input('string :')\n",
        "c=input('char to remove :')\n",
        "result=''\n",
        "for i in s:\n",
        "  if i==c:\n",
        "    continue\n",
        "  result+=i\n",
        "\n",
        "print(result)"
      ],
      "metadata": {
        "colab": {
          "base_uri": "https://localhost:8080/"
        },
        "id": "t2-bZsi2RdB6",
        "outputId": "9ad99998-8db1-4be7-b5eb-5ebfa7b48626"
      },
      "execution_count": null,
      "outputs": [
        {
          "output_type": "stream",
          "name": "stdout",
          "text": [
            "string :shubham murtadak\n",
            "char to remove :a\n",
            "shubhm murtdk\n"
          ]
        }
      ]
    },
    {
      "cell_type": "code",
      "source": [
        "#write a program that can check whether a given string is palindrome or not\n",
        "s=input('string :')\n",
        "i=0\n",
        "j=len(s)-1\n",
        "check=0\n",
        "while(i<=j):\n",
        "  if s[i]!=s[j]:\n",
        "    check=1\n",
        "    break\n",
        "  i+=1\n",
        "  j-=1\n",
        "if check==0:\n",
        "  print(s,' is a palindrome ')\n",
        "else:\n",
        "  print(s,' is not a palindrome ')\n"
      ],
      "metadata": {
        "colab": {
          "base_uri": "https://localhost:8080/"
        },
        "id": "U44d5xkvWBbO",
        "outputId": "c6c75907-f952-4e9d-93f9-29687df40f32"
      },
      "execution_count": null,
      "outputs": [
        {
          "output_type": "stream",
          "name": "stdout",
          "text": [
            "string :shubham\n",
            "shubham  is not a palindrome \n"
          ]
        }
      ]
    },
    {
      "cell_type": "code",
      "source": [
        "#write a program that count the number of words in a string without split()\n",
        "s=input('string :')\n",
        "temp=\" \"\n",
        "l=[]\n",
        "for i in s:\n",
        "  temp=\" \"\n",
        "  if i!=' ':\n",
        "    l.append(i)\n",
        "print(l)\n",
        "\n",
        "    \n"
      ],
      "metadata": {
        "colab": {
          "base_uri": "https://localhost:8080/"
        },
        "id": "i2onla1gXG6y",
        "outputId": "ac776600-4a1e-4c29-825d-932a300fbc4c"
      },
      "execution_count": null,
      "outputs": [
        {
          "output_type": "stream",
          "name": "stdout",
          "text": [
            "string :sh dm k\n",
            "['s', 'h', 'd', 'm', 'k']\n"
          ]
        }
      ]
    },
    {
      "cell_type": "code",
      "source": [
        "s=\"hi how are you\"\n",
        "temp=\" \"\n",
        "l=[]\n",
        "for i in s:\n",
        "  if i!=' ':\n",
        "    temp+=i\n",
        "  else:\n",
        "    l.append(temp)\n",
        "    temp=\" \"\n",
        "l.append(temp)\n",
        "print(l)"
      ],
      "metadata": {
        "colab": {
          "base_uri": "https://localhost:8080/"
        },
        "id": "g_EsZbgNZKd7",
        "outputId": "6064ce1b-0254-49b8-a8e2-dc5a65bfe168"
      },
      "execution_count": null,
      "outputs": [
        {
          "output_type": "stream",
          "name": "stdout",
          "text": [
            "[' hi', ' how', ' are', ' you']\n"
          ]
        }
      ]
    },
    {
      "cell_type": "code",
      "source": [
        "#write a program to convert a string to title case without using the title()\n",
        "s=\"hi how are you\"\n",
        "#s.title()\n",
        "l=[]\n",
        "for i in s.split():\n",
        "  l.append(i[0].upper()+i[1:].lower())\n",
        "print(\" \".join(l))"
      ],
      "metadata": {
        "colab": {
          "base_uri": "https://localhost:8080/"
        },
        "id": "t4DLQMAVank5",
        "outputId": "f3da5023-8915-4f39-a11b-95bb2f343d3c"
      },
      "execution_count": null,
      "outputs": [
        {
          "output_type": "stream",
          "name": "stdout",
          "text": [
            "Hi How Are You\n"
          ]
        }
      ]
    },
    {
      "cell_type": "code",
      "source": [
        "#write a program that can convert an integer to string\n",
        "#str(345)\n",
        "number=int(input('number :'))\n",
        "digit='0123456789'\n",
        "result=\" \"\n",
        "while number!=0:\n",
        "  result=digit[number%10] +result\n",
        "  number//=10\n",
        "print(result)"
      ],
      "metadata": {
        "colab": {
          "base_uri": "https://localhost:8080/"
        },
        "id": "YE5C_S1Xdpxi",
        "outputId": "53057936-5803-46d7-9c51-a421ea1915e8"
      },
      "execution_count": null,
      "outputs": [
        {
          "output_type": "stream",
          "name": "stdout",
          "text": [
            "number :345\n",
            "345 \n"
          ]
        }
      ]
    }
  ]
}